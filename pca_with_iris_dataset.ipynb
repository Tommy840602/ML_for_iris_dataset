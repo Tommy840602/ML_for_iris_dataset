{
  "nbformat": 4,
  "nbformat_minor": 0,
  "metadata": {
    "colab": {
      "provenance": [],
      "authorship_tag": "ABX9TyNzDiQYAbw5MSNuF4WxCSOQ",
      "include_colab_link": true
    },
    "kernelspec": {
      "name": "python3",
      "display_name": "Python 3"
    },
    "language_info": {
      "name": "python"
    }
  },
  "cells": [
    {
      "cell_type": "markdown",
      "metadata": {
        "id": "view-in-github",
        "colab_type": "text"
      },
      "source": [
        "<a href=\"https://colab.research.google.com/github/Tommy840602/PCA_with_iris_dataset/blob/main/pca_with_iris_dataset.ipynb\" target=\"_parent\"><img src=\"https://colab.research.google.com/assets/colab-badge.svg\" alt=\"Open In Colab\"/></a>"
      ]
    },
    {
      "cell_type": "code",
      "execution_count": null,
      "metadata": {
        "id": "mbQjMsdO7MdH"
      },
      "outputs": [],
      "source": [
        "#PCA with Iris dataset\n",
        "import numpy as np\n",
        "import pandas as pd\n",
        "from sklearn import datasets\n",
        "from sklearn.model_selection import train_test_split\n",
        "from sklearn.neighbors import KNeighborsClassifier\n",
        "import seaborn as sns\n",
        "import matplotlib.pyplot as plt\n",
        "import os\n",
        "import missingno as msno\n",
        "\n",
        "iris=pd.read_csv('Iris.csv',index_col=\"Id\")\n",
        "\n",
        "#Univariate EDA\n",
        "iris.info()"
      ]
    },
    {
      "cell_type": "code",
      "source": [
        "iris.describe()"
      ],
      "metadata": {
        "id": "SD1NSAKs7PDG"
      },
      "execution_count": null,
      "outputs": []
    },
    {
      "cell_type": "code",
      "source": [
        "iris.head()"
      ],
      "metadata": {
        "id": "r4mG0GVs7RRk"
      },
      "execution_count": null,
      "outputs": []
    },
    {
      "cell_type": "code",
      "source": [
        "iris.Species.replace({'Iris-setosa':0,'Iris-versicolor':1, 'Iris-virginica':2},inplace=True)"
      ],
      "metadata": {
        "id": "BmxiAoAs7TAQ"
      },
      "execution_count": null,
      "outputs": []
    },
    {
      "cell_type": "code",
      "source": [
        "iris.head()"
      ],
      "metadata": {
        "id": "2yFtcvMx7Vm5"
      },
      "execution_count": null,
      "outputs": []
    },
    {
      "cell_type": "code",
      "source": [
        "p=msno.bar(iris)"
      ],
      "metadata": {
        "id": "mhVKQin47X9M"
      },
      "execution_count": null,
      "outputs": []
    },
    {
      "cell_type": "code",
      "source": [
        "sns.countplot(y=iris.Species ,data=iris)\n",
        "plt.xlabel(\"Count of each Target class\")\n",
        "plt.ylabel(\"Target classes\")\n",
        "plt.show()"
      ],
      "metadata": {
        "id": "CJkKBBna7aB_"
      },
      "execution_count": null,
      "outputs": []
    },
    {
      "cell_type": "code",
      "source": [
        "#Bivariate EDA\n",
        "\n",
        "fig,ax = plt.subplots(nrows = 3, ncols=2, figsize=(16,10))\n",
        "row = 0\n",
        "col = 0\n",
        "for i in range(len(iris.columns) ):\n",
        "    if col > 1:\n",
        "        row += 1\n",
        "        col = 0\n",
        "    axes = ax[row,col]\n",
        "    sns.boxplot(x = iris['Species'], y = iris[iris.columns[i]],ax = axes)\n",
        "    col += 1\n",
        "plt.tight_layout()\n",
        "plt.show()"
      ],
      "metadata": {
        "id": "UY9xGP3D7eQS"
      },
      "execution_count": null,
      "outputs": []
    },
    {
      "cell_type": "code",
      "source": [
        "p=sns.pairplot(iris)"
      ],
      "metadata": {
        "id": "3rldPPB17gdM"
      },
      "execution_count": null,
      "outputs": []
    },
    {
      "cell_type": "code",
      "source": [
        "plt.figure(figsize=(15,15))\n",
        "p=sns.heatmap(iris.corr(), annot=True,cmap='RdYlGn')"
      ],
      "metadata": {
        "id": "DgYBAKjl7iX8"
      },
      "execution_count": null,
      "outputs": []
    },
    {
      "cell_type": "code",
      "source": [
        "iris.hist(figsize=(15,12),bins = 15)\n",
        "plt.title(\"Features Distribution\")\n",
        "plt.show()"
      ],
      "metadata": {
        "id": "aDf-mevy7kd1"
      },
      "execution_count": null,
      "outputs": []
    }
  ]
}